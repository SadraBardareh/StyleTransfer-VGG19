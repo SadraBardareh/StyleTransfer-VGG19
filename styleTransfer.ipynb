{
  "cells": [
    {
      "cell_type": "code",
      "execution_count": null,
      "metadata": {
        "id": "5S5WQa8es3Me"
      },
      "outputs": [],
      "source": [
        "import numpy as np\n",
        "import pandas as pd\n",
        "import matplotlib.pyplot as plt\n",
        "import seaborn as sns\n",
        "%matplotlib inline\n",
        "sns.set_theme()"
      ]
    },
    {
      "cell_type": "code",
      "execution_count": null,
      "metadata": {
        "colab": {
          "base_uri": "https://localhost:8080/",
          "height": 176
        },
        "id": "CVAzfaOMviCM",
        "outputId": "3d47a3d2-dee8-4bae-b393-adfbffdd31bc"
      },
      "outputs": [],
      "source": [
        "# from google.colab import drive\n",
        "# import os\n",
        "\n",
        "# drive.mount('/content/drive')\n",
        "# os.chdir('/content/drive/My Drive/StyleTransfer')"
      ]
    },
    {
      "cell_type": "code",
      "execution_count": null,
      "metadata": {
        "id": "Fo47K5c2w6UT"
      },
      "outputs": [],
      "source": [
        "import torch\n",
        "import torch.optim as optim\n",
        "from torchvision import transforms, models"
      ]
    },
    {
      "cell_type": "code",
      "execution_count": null,
      "metadata": {
        "collapsed": true,
        "id": "jUPml3RCx88B"
      },
      "outputs": [],
      "source": [
        "model = models.vgg19(pretrained=True).features # we don't need the classifiers\n",
        "for param in model.parameters():\n",
        "    param.requires_grad = False"
      ]
    },
    {
      "cell_type": "code",
      "execution_count": null,
      "metadata": {
        "id": "pKDGYBSbzCQq"
      },
      "outputs": [],
      "source": [
        "device = torch.device('mps' if torch.backends.mps.is_available() else 'cuda' if torch.cuda.is_available() else 'cpu')\n",
        "model.to(device)\n",
        "print(device)"
      ]
    },
    {
      "cell_type": "code",
      "execution_count": null,
      "metadata": {
        "id": "ISuacMyRzJ6a"
      },
      "outputs": [],
      "source": [
        "from PIL import Image\n",
        "\n",
        "def prepare_img(path, max_size=400, shape=None):\n",
        "    img = Image.open(path).convert('RGB')\n",
        "    if shape is not None:\n",
        "        size = shape\n",
        "    elif max(img.size) > max_size:\n",
        "        size = max_size\n",
        "    else:\n",
        "        size = max(img.size)\n",
        "\n",
        "    transformer = transforms.Compose([\n",
        "        transforms.Resize(size),\n",
        "        transforms.ToTensor(),\n",
        "        transforms.Normalize((0.485, 0.456, 0.406),\n",
        "                             (0.229, 0.224, 0.225))])\n",
        "\n",
        "    img = transformer(img)[:3,:,:].unsqueeze(0)\n",
        "    return img\n",
        "\n",
        "def im_convert(tensor):\n",
        "    image = tensor.to(\"cpu\").clone().detach()\n",
        "    image = image.numpy().squeeze()\n",
        "    image = image.transpose(1,2,0)\n",
        "    image = image * np.array((0.229, 0.224, 0.225)) + np.array((0.485, 0.456, 0.406))\n",
        "    image = image.clip(0, 1)\n",
        "\n",
        "    return image"
      ]
    },
    {
      "cell_type": "code",
      "execution_count": null,
      "metadata": {
        "id": "MYq_-lZd36nU"
      },
      "outputs": [],
      "source": [
        "content = prepare_img('data/city1.jpg').to(device)\n",
        "style = prepare_img('data/delaunay.jpg', shape=content.shape[-2:]).to(device)"
      ]
    },
    {
      "cell_type": "code",
      "execution_count": null,
      "metadata": {
        "id": "ddOpEhYJ6Cm5"
      },
      "outputs": [],
      "source": [
        "fig, (ax1, ax2) = plt.subplots(1, 2, figsize=(20, 10))\n",
        "ax1.imshow(im_convert(content))\n",
        "ax2.imshow(im_convert(style))"
      ]
    },
    {
      "cell_type": "code",
      "execution_count": null,
      "metadata": {
        "id": "ST2U84wn6-kf"
      },
      "outputs": [],
      "source": [
        "def get_features(img, model, layers=None):\n",
        "    if layers is None:\n",
        "        layers = {'0': 'conv1_1',\n",
        "                  '5': 'conv2_1',\n",
        "                  '10': 'conv3_1',\n",
        "                  '19': 'conv4_1',\n",
        "                  '21': 'conv4_2', #content\n",
        "                  '28': 'conv5_1'}\n",
        "\n",
        "    features = {}\n",
        "    for name, layer in model._modules.items():\n",
        "        img = layer(img)\n",
        "        if name in layers:\n",
        "            features[layers[name]] = img\n",
        "\n",
        "    return features"
      ]
    },
    {
      "cell_type": "code",
      "execution_count": null,
      "metadata": {
        "id": "4AFMpo1w9XlV"
      },
      "outputs": [],
      "source": [
        "def gram_matrix(tensor):\n",
        "    _, d, h, w = tensor.size()\n",
        "    tensor = tensor.view(d, h * w)\n",
        "    gram = torch.mm(tensor, tensor.t())\n",
        "    return gram"
      ]
    },
    {
      "cell_type": "code",
      "execution_count": null,
      "metadata": {
        "id": "_ZMITPpe91E8"
      },
      "outputs": [],
      "source": [
        "content_features = get_features(content, model)\n",
        "style_features = get_features(style, model)\n",
        "style_grams = {layer: gram_matrix(style_features[layer]) for layer in style_features}\n",
        "target = content.clone().requires_grad_(True).to(device)"
      ]
    },
    {
      "cell_type": "code",
      "execution_count": null,
      "metadata": {
        "id": "0EBxhlsP-3ZG"
      },
      "outputs": [],
      "source": [
        "style_weights = {'conv1_1': 1.,\n",
        "                 'conv2_1': 0.8,\n",
        "                 'conv3_1': 0.5,\n",
        "                 'conv4_1': 0.3,\n",
        "                 'conv5_1': 0.1}\n",
        "\n",
        "style_weight = 1e6\n",
        "content_weight = 1"
      ]
    },
    {
      "cell_type": "code",
      "execution_count": null,
      "metadata": {
        "id": "hQm0HuKg_B-G"
      },
      "outputs": [],
      "source": [
        "optimizer = optim.Adam([target], lr=0.003)\n",
        "steps = 2000\n",
        "show_every = 400\n",
        "\n",
        "for ii in range(1, steps+1):\n",
        "    target_features = get_features(target, model)\n",
        "    content_loss = torch.mean((target_features['conv4_2'] - content_features['conv4_2'])**2)\n",
        "\n",
        "    style_loss = 0\n",
        "    for layer in style_weights:\n",
        "        target_feature = target_features[layer]\n",
        "        _, d, h, w = target_feature.shape\n",
        "\n",
        "        target_gram = gram_matrix(target_feature)\n",
        "        style_gram = style_grams[layer]\n",
        "\n",
        "        layer_style_loss = style_weights[layer] * torch.mean((target_gram - style_gram)**2)\n",
        "\n",
        "        style_loss += layer_style_loss / (d * h * w)\n",
        "\n",
        "    total_loss = content_weight * content_loss + style_weight * style_loss\n",
        "\n",
        "    optimizer.zero_grad()\n",
        "    total_loss.backward()\n",
        "    optimizer.step()\n",
        "\n",
        "    if  ii % show_every == 0:\n",
        "        print('Total loss: ', total_loss.item())\n",
        "        plt.imshow(im_convert(target))\n",
        "        plt.show()"
      ]
    }
  ],
  "metadata": {
    "colab": {
      "provenance": []
    },
    "kernelspec": {
      "display_name": "pytorch-gpu",
      "language": "python",
      "name": "pytorch-gpu"
    },
    "language_info": {
      "codemirror_mode": {
        "name": "ipython",
        "version": 3
      },
      "file_extension": ".py",
      "mimetype": "text/x-python",
      "name": "python",
      "nbconvert_exporter": "python",
      "pygments_lexer": "ipython3",
      "version": "3.10.12"
    }
  },
  "nbformat": 4,
  "nbformat_minor": 0
}
